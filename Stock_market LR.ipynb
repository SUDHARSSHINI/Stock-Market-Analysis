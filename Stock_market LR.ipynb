{
  "nbformat": 4,
  "nbformat_minor": 0,
  "metadata": {
    "colab": {
      "provenance": [],
      "authorship_tag": "ABX9TyM3PIKJ2hBbOuf00DkBpVM0",
      "include_colab_link": true
    },
    "kernelspec": {
      "name": "python3",
      "display_name": "Python 3"
    },
    "language_info": {
      "name": "python"
    }
  },
  "cells": [
    {
      "cell_type": "markdown",
      "metadata": {
        "id": "view-in-github",
        "colab_type": "text"
      },
      "source": [
        "<a href=\"https://colab.research.google.com/github/SUDHARSSHINI/Stock-Market-Analysis/blob/main/Stock_market%20LR.ipynb\" target=\"_parent\"><img src=\"https://colab.research.google.com/assets/colab-badge.svg\" alt=\"Open In Colab\"/></a>"
      ]
    },
    {
      "cell_type": "markdown",
      "source": [
        "STOCK MARKET DATA ANALYSIS\n",
        "\n",
        "Loading the data"
      ],
      "metadata": {
        "id": "6yNw7ltlOlWx"
      }
    },
    {
      "cell_type": "code",
      "source": [
        "import pandas as pd\n",
        "\n",
        "# Assuming your files are named nifty_data_1.xlsx, nifty_data_2.xlsx, ..., nifty_data_5.xlsx\n",
        "file_names = ['/content/CBOE 10Y Bond 2008_2023.csv', '/content/Crude 2008_2023.csv', '/content/Gold 2008_2023.csv', '/content/NIFTY 2008_2023.csv', '/content/USDINR 2008_2023.csv']\n",
        "\n",
        "# Create an empty DataFrame to store the combined data\n",
        "combined_df = pd.DataFrame()\n",
        "\n",
        "# Loop through each file and read the data into the combined DataFrame\n",
        "for file_name in file_names:\n",
        "    df = pd.read_csv(file_name)  # Use pd.read_csv for CSV files\n",
        "    combined_df = combined_df.append(df, ignore_index=True)\n",
        "\n",
        "# Now you can proceed with your analysis using the combined DataFrame (combined_df)\n",
        "# For example, you can drop a column named 'target' if it exists\n",
        "if 'target' in combined_df.columns:\n",
        "    X = combined_df.drop('target', axis=1)\n",
        "    y = combined_df['target']\n",
        "else:\n",
        "    X = combined_df  # Adjust this line according to your actual columns\n",
        "\n",
        "# Further analysis and processing can be done on X and y\n"
      ],
      "metadata": {
        "colab": {
          "base_uri": "https://localhost:8080/"
        },
        "id": "gLnB4NLdDNEu",
        "outputId": "20584872-207e-46b8-c179-57c39662bf82"
      },
      "execution_count": null,
      "outputs": [
        {
          "output_type": "stream",
          "name": "stderr",
          "text": [
            "<ipython-input-4-4b6925c0212a>:12: FutureWarning: The frame.append method is deprecated and will be removed from pandas in a future version. Use pandas.concat instead.\n",
            "  combined_df = combined_df.append(df, ignore_index=True)\n",
            "<ipython-input-4-4b6925c0212a>:12: FutureWarning: The frame.append method is deprecated and will be removed from pandas in a future version. Use pandas.concat instead.\n",
            "  combined_df = combined_df.append(df, ignore_index=True)\n",
            "<ipython-input-4-4b6925c0212a>:12: FutureWarning: The frame.append method is deprecated and will be removed from pandas in a future version. Use pandas.concat instead.\n",
            "  combined_df = combined_df.append(df, ignore_index=True)\n",
            "<ipython-input-4-4b6925c0212a>:12: FutureWarning: The frame.append method is deprecated and will be removed from pandas in a future version. Use pandas.concat instead.\n",
            "  combined_df = combined_df.append(df, ignore_index=True)\n",
            "<ipython-input-4-4b6925c0212a>:12: FutureWarning: The frame.append method is deprecated and will be removed from pandas in a future version. Use pandas.concat instead.\n",
            "  combined_df = combined_df.append(df, ignore_index=True)\n"
          ]
        }
      ]
    },
    {
      "cell_type": "markdown",
      "source": [
        "LOAD\n",
        "\n",
        "The provided code combines data from multiple CSV files into a single pandas DataFrame `combined_df`. It iterates through each file, reads its contents using `pd.read_csv()`, and appends them to `combined_df`. If a column named 'target' exists, it separates features (X) and target variable (y). Otherwise, the entire DataFrame is considered as features. This approach simplifies analysis by consolidating data from different sources into one DataFrame.\n",
        "\n",
        ">\n",
        "\n",
        "\n",
        "---\n",
        "\n",
        "\n",
        "---\n",
        "\n",
        "\n",
        "\n",
        "---\n",
        "\n"
      ],
      "metadata": {
        "id": "Z7IvJ-GkOsHY"
      }
    },
    {
      "cell_type": "code",
      "source": [
        "import pandas as pd\n",
        "\n",
        "# Assuming 'Close' as the target variable\n",
        "target_column = 'Close'\n",
        "\n",
        "# Assuming 'Date' is a column containing datetime information\n",
        "combined_df['Date'] = pd.to_datetime(combined_df['Date'])\n",
        "\n",
        "# Feature Engineering\n",
        "# Example: Extracting year, month, and day as new features\n",
        "combined_df['Year'] = combined_df['Date'].dt.year\n",
        "combined_df['Month'] = combined_df['Date'].dt.month\n",
        "combined_df['Day'] = combined_df['Date'].dt.day\n",
        "\n",
        "# Check if 'Close' column is of string type, if not convert it to string\n",
        "if combined_df['Close'].dtype != 'O':\n",
        "    combined_df['Close'] = combined_df['Close'].astype(str)\n",
        "\n",
        "# Remove commas from 'Close' column and convert to numeric format\n",
        "combined_df['Close'] = pd.to_numeric(combined_df['Close'].str.replace(',', ''), errors='coerce')\n",
        "\n"
      ],
      "metadata": {
        "id": "Cwp11MBtnL7N"
      },
      "execution_count": null,
      "outputs": []
    },
    {
      "cell_type": "markdown",
      "source": [
        "The code snippet performs data preprocessing on a DataFrame named `combined_df`:\n",
        "1. Converts the 'Date' column to datetime format.\n",
        "2. Engineers new features ('Year', 'Month', 'Day') from the 'Date' column.\n",
        "3. Converts the 'Close' column to string type if not already.\n",
        "4. Removes commas and converts 'Close' column to numeric format, handling non-convertible values as NaN.\n",
        "5. These steps aim to prepare the data for analysis and machine learning tasks by ensuring consistency and handling missing values."
      ],
      "metadata": {
        "id": "GmGSjV7YTuK0"
      }
    },
    {
      "cell_type": "code",
      "source": [
        "# Basic statistics\n",
        "print(combined_df.describe())\n",
        "\n",
        "# Plotting\n",
        "import matplotlib.pyplot as plt\n",
        "\n",
        "plt.plot(combined_df['Date'], combined_df['Close'])\n",
        "plt.title('Stock Prices Over Time')\n",
        "plt.xlabel('Date')\n",
        "plt.ylabel('Closing Price')\n",
        "plt.show()\n"
      ],
      "metadata": {
        "colab": {
          "base_uri": "https://localhost:8080/",
          "height": 628
        },
        "id": "3bLsxZ42nmQR",
        "outputId": "76b503f1-e41f-49c5-df88-702726ea353d"
      },
      "execution_count": null,
      "outputs": [
        {
          "output_type": "stream",
          "name": "stdout",
          "text": [
            "              Close     Adj Close          Year         Month           Day\n",
            "count  12092.000000  12092.000000  21045.000000  21045.000000  21045.000000\n",
            "mean    3055.003514   3055.003514   2015.497315      6.522642     15.750915\n",
            "std     5084.092590   5084.092590      4.609608      3.434734      8.755915\n",
            "min        0.499000      0.499000   2008.000000      1.000000      1.000000\n",
            "25%        3.133750      3.133750   2011.000000      4.000000      8.000000\n",
            "50%       64.159000     64.159000   2015.000000      7.000000     16.000000\n",
            "75%     5413.925049   5413.925049   2020.000000      9.000000     23.000000\n",
            "max    21778.699219  21778.699219   2023.000000     12.000000     31.000000\n"
          ]
        },
        {
          "output_type": "display_data",
          "data": {
            "text/plain": [
              "<Figure size 640x480 with 1 Axes>"
            ],
            "image/png": "[encoded data removed]"
          },
          "metadata": {}
        }
      ]
    },
    {
      "cell_type": "markdown",
      "source": [
        "CALCULATION\n",
        "\n",
        "The code calculates descriptive statistics for the DataFrame `combined_df`, displaying information such as count, mean, standard deviation, minimum, quartiles, and maximum values for numeric columns.\n",
        "It then uses matplotlib to create a line plot showing the trend of 'Close' prices over time.\n",
        "The x-axis represents dates from the 'Date' column, while the y-axis displays corresponding 'Close' prices.\n",
        "The title of the plot is set as 'Stock Prices Over Time', with 'Date' and 'Closing Price' specified as the x and y-axis labels, respectively.\n",
        "This visualization helps visualize the overall trend and fluctuations in stock prices over the period covered by the data."
      ],
      "metadata": {
        "id": "uytyHPVBUum0"
      }
    },
    {
      "cell_type": "code",
      "source": [
        "from sklearn.preprocessing import StandardScaler\n",
        "\n",
        "# Exclude non-numerical columns and target variables\n",
        "exclude_columns = ['Close', 'Adj Close', 'Date']  # Add any other columns you want to exclude\n",
        "numerical_features = [col for col in X.columns if col not in exclude_columns and X[col].dtype in ['float64', 'int64']]\n",
        "\n",
        "# Check if there are numerical features to scale\n",
        "if not numerical_features:\n",
        "    raise ValueError(\"No numerical features found for scaling.\")\n",
        "\n",
        "# Standardize the selected numerical features\n",
        "scaler = StandardScaler()\n",
        "X[numerical_features] = scaler.fit_transform(X[numerical_features])\n"
      ],
      "metadata": {
        "id": "Vj_AZr5WnyQc"
      },
      "execution_count": null,
      "outputs": []
    },
    {
      "cell_type": "markdown",
      "source": [
        "The code snippet utilizes `StandardScaler` from scikit-learn to standardize numerical features in the DataFrame `X`.\n",
        "It identifies numerical features by excluding specified non-numerical columns like 'Close', 'Adj Close', and 'Date'.\n",
        "If there are no numerical features to scale, it raises a ValueError.\n",
        "For each numerical feature identified, it standardizes the data using `StandardScaler`, ensuring a mean of 0 and standard deviation of 1.\n",
        "This preprocessing step is crucial for machine learning algorithms sensitive to feature scales, ensuring uniformity and improving model performance."
      ],
      "metadata": {
        "id": "Y3_lAG1gVOHg"
      }
    },
    {
      "cell_type": "code",
      "source": [
        "# Replace missing values in the 'Close' column with a default value (e.g., median)\n",
        "default_value = combined_df['Close'].median()\n",
        "combined_df['Close'].fillna(default_value, inplace=True)\n",
        "\n",
        "# Define the target variable (Close price)\n",
        "y = combined_df['Close']\n",
        "\n",
        "# Proceed with the rest of the code for model training, evaluation, and prediction\n"
      ],
      "metadata": {
        "id": "pnbaecNtYjZN"
      },
      "execution_count": null,
      "outputs": []
    },
    {
      "cell_type": "markdown",
      "source": [
        "Model Training and Evaluation\n",
        "\n",
        "The code snippet replaces missing values in the 'Close' column of the DataFrame `combined_df` with the median value of the column.\n",
        "It assigns the target variable `y` as the 'Close' price from `combined_df`.\n",
        "With missing values handled and the target variable defined, the code can proceed to train, evaluate, and predict using machine learning models.\n",
        "This preprocessing step ensures data completeness and enables subsequent model training and evaluation on the target variable."
      ],
      "metadata": {
        "id": "Dz8XsS3wWzu3"
      }
    },
    {
      "cell_type": "code",
      "source": [
        "import pandas as pd\n",
        "\n",
        "# Load data from CSV files\n",
        "file_paths = [\n",
        "    \"/content/CBOE 10Y Bond 2008_2023.csv\",\n",
        "    \"/content/Crude 2008_2023.csv\",\n",
        "    \"/content/Gold 2008_2023.csv\",\n",
        "    \"/content/NIFTY 2008_2023.csv\",\n",
        "    \"/content/USDINR 2008_2023.csv\"\n",
        "]\n",
        "\n",
        "# Combine data from all CSV files into a single DataFrame\n",
        "combined_df = pd.concat([pd.read_csv(file) for file in file_paths], ignore_index=True)\n"
      ],
      "metadata": {
        "id": "6-48tccwcMnS"
      },
      "execution_count": null,
      "outputs": []
    },
    {
      "cell_type": "markdown",
      "source": [
        "ANALYSIS\n",
        "\n",
        "The code loads data from multiple CSV files specified by `file_paths` into separate pandas DataFrames using `pd.read_csv()`.\n",
        "It then combines these DataFrames into a single DataFrame `combined_df` using `pd.concat()`, ensuring consistent indexing with `ignore_index=True`.\n",
        "This consolidation simplifies data management and analysis by merging information from various financial instruments into one unified DataFrame.\n",
        "The resulting DataFrame `combined_df` contains the combined data from all CSV files, ready for further analysis and processing.\n",
        "This approach facilitates comprehensive analysis of multiple financial instruments within a single dataset."
      ],
      "metadata": {
        "id": "WvAly42RYffd"
      }
    },
    {
      "cell_type": "code",
      "source": [
        "# Handle missing values\n",
        "combined_df.dropna(subset=['Close'], inplace=True)\n"
      ],
      "metadata": {
        "id": "qvpr959bckFn"
      },
      "execution_count": null,
      "outputs": []
    },
    {
      "cell_type": "code",
      "source": [
        "from sklearn.impute import SimpleImputer\n",
        "\n",
        "# Replace non-numeric values with NaN\n",
        "X_numeric = X.apply(pd.to_numeric, errors='coerce')\n",
        "\n",
        "# Handle missing values using SimpleImputer\n",
        "imputer = SimpleImputer(strategy='median')\n",
        "X_imputed = imputer.fit_transform(X_numeric)\n",
        "\n",
        "# Convert the imputed array back to a DataFrame\n",
        "X_imputed_df = pd.DataFrame(X_imputed, columns=X.columns)\n",
        "\n",
        "# Standardize the features\n",
        "X_scaled = scaler.fit_transform(X_imputed_df)\n"
      ],
      "metadata": {
        "id": "tUfVw1Avcm3d"
      },
      "execution_count": null,
      "outputs": []
    },
    {
      "cell_type": "markdown",
      "source": [
        "TRAINING\n",
        "\n",
        "The code uses `SimpleImputer` from scikit-learn to handle missing values by replacing them with the median of each feature.\n",
        "Non-numeric values in DataFrame `X` are converted to NaN using `pd.to_numeric()` with `errors='coerce'`.\n",
        "The resulting DataFrame `X_numeric` contains only numeric values.\n",
        "After imputing missing values, the array is converted back to a DataFrame `X_imputed_df` to maintain column names.\n",
        "Finally, features in `X_imputed_df` are standardized using `scaler.fit_transform()` to ensure consistent scales across features for machine learning models."
      ],
      "metadata": {
        "id": "lfVh3-_Ja8EW"
      }
    },
    {
      "cell_type": "code",
      "source": [
        "import pandas as pd\n",
        "from sklearn.impute import SimpleImputer\n",
        "from sklearn.preprocessing import StandardScaler\n",
        "\n",
        "# Load data from CSV files\n",
        "file_paths = [\n",
        "    \"/content/CBOE 10Y Bond 2008_2023.csv\",\n",
        "    \"/content/Crude 2008_2023.csv\",\n",
        "    \"/content/Gold 2008_2023.csv\",\n",
        "    \"/content/NIFTY 2008_2023.csv\",\n",
        "    \"/content/USDINR 2008_2023.csv\"\n",
        "]\n",
        "\n",
        "# Combine data from all CSV files into a single DataFrame\n",
        "combined_df = pd.concat([pd.read_csv(file) for file in file_paths], ignore_index=True)\n",
        "\n",
        "# Preprocess Data\n",
        "# Drop irrelevant columns if needed\n",
        "combined_df.drop(['Date'], axis=1, inplace=True)\n",
        "\n",
        "# Replace non-numeric values with NaN\n",
        "combined_df_numeric = combined_df.apply(pd.to_numeric, errors='coerce')\n",
        "\n",
        "# Handle missing values using SimpleImputer\n",
        "imputer = SimpleImputer(strategy='median')\n",
        "combined_df_imputed = pd.DataFrame(imputer.fit_transform(combined_df_numeric), columns=combined_df_numeric.columns)\n",
        "\n",
        "# Standardize the features\n",
        "scaler = StandardScaler()\n",
        "X_scaled = scaler.fit_transform(combined_df_imputed)\n",
        "\n",
        "# Assuming 'Close' is the target variable\n",
        "y = combined_df_imputed['Close']\n",
        "\n",
        "# Split the data into training and testing sets if needed\n",
        "# X_train, X_test, y_train, y_test = train_test_split(X_scaled, y, test_size=0.2, random_state=42)\n"
      ],
      "metadata": {
        "id": "nSnxIu-Ed9xZ"
      },
      "execution_count": null,
      "outputs": []
    },
    {
      "cell_type": "markdown",
      "source": [
        "Handling missing values"
      ],
      "metadata": {
        "id": "xSI9enrriUz7"
      }
    },
    {
      "cell_type": "markdown",
      "source": [
        "This code combines data from multiple CSV files into a single DataFrame `combined_df`.\n",
        "Irrelevant columns, such as 'Date', are dropped from the DataFrame to focus on relevant features.\n",
        "Non-numeric values are replaced with NaN, and missing values are handled using `SimpleImputer` with the median strategy.\n",
        "Features are standardized using `StandardScaler` to ensure consistent scales across the dataset.\n",
        "Finally, assuming 'Close' is the target variable, the dataset can be split into training and testing sets using `train_test_split` for model training and evaluation."
      ],
      "metadata": {
        "id": "7KN__Bbyfy_c"
      }
    },
    {
      "cell_type": "code",
      "source": [
        "import pandas as pd\n",
        "\n",
        "# Load your data\n",
        "file_paths = [\n",
        "    \"/content/CBOE 10Y Bond 2008_2023.csv\",\n",
        "    \"/content/Crude 2008_2023.csv\",\n",
        "    \"/content/Gold 2008_2023.csv\",\n",
        "    \"/content/NIFTY 2008_2023.csv\",\n",
        "    \"/content/USDINR 2008_2023.csv\"\n",
        "]\n",
        "\n",
        "# Combine data from all CSV files into a single DataFrame\n",
        "combined_df = pd.concat([pd.read_csv(file) for file in file_paths], ignore_index=True)\n",
        "\n",
        "# Display the first few rows of the combined DataFrame\n",
        "print(combined_df.head())\n",
        "\n",
        "# Check the data types and structure of the DataFrame\n",
        "print(combined_df.info())\n",
        "\n",
        "# Now, based on the structure and content of your data, you can define your X and y accordingly\n"
      ],
      "metadata": {
        "colab": {
          "base_uri": "https://localhost:8080/"
        },
        "id": "Q95o0LXPf9j-",
        "outputId": "82665c0a-9668-4dc0-9c58-554174941c9f"
      },
      "execution_count": null,
      "outputs": [
        {
          "output_type": "stream",
          "name": "stdout",
          "text": [
            "         Date   Open   High    Low  Close  Adj Close Volume Close* Adj Close**\n",
            "0  2008-01-02  4.033  4.052  3.892  3.901      3.901    0.0    NaN         NaN\n",
            "1  2008-01-03  3.892  3.958  3.892  3.901      3.901    0.0    NaN         NaN\n",
            "2  2008-01-04  3.914   3.99  3.809  3.854      3.854    0.0    NaN         NaN\n",
            "3  2008-01-06    NaN    NaN    NaN    NaN        NaN    NaN    NaN         NaN\n",
            "4  2008-01-07  3.893  3.903  3.833  3.839      3.839    0.0    NaN         NaN\n",
            "<class 'pandas.core.frame.DataFrame'>\n",
            "RangeIndex: 21045 entries, 0 to 21044\n",
            "Data columns (total 9 columns):\n",
            " #   Column       Non-Null Count  Dtype  \n",
            "---  ------       --------------  -----  \n",
            " 0   Date         21045 non-null  object \n",
            " 1   Open         20150 non-null  object \n",
            " 2   High         20150 non-null  object \n",
            " 3   Low          20150 non-null  object \n",
            " 4   Close        12092 non-null  float64\n",
            " 5   Adj Close    12092 non-null  float64\n",
            " 6   Volume       20150 non-null  object \n",
            " 7   Close*       8058 non-null   object \n",
            " 8   Adj Close**  8058 non-null   object \n",
            "dtypes: float64(2), object(7)\n",
            "memory usage: 1.4+ MB\n",
            "None\n"
          ]
        }
      ]
    },
    {
      "cell_type": "markdown",
      "source": [
        "To view the data for further Analysis\n",
        "\n",
        "The above code loads data from multiple CSV files specified by `file_paths` into a single DataFrame `combined_df` using `pd.concat()` and `pd.read_csv()`.\n",
        "It displays the first few rows of `combined_df` using `print(combined_df.head())`.\n",
        "Then, it prints the data types and structure of `combined_df` using `print(combined_df.info())`, providing insights into the columns and their data types.\n",
        "Based on the structure and content of your data displayed by `combined_df.info()`, you can define your feature matrix `X` and target variable `y` accordingly for further analysis or modeling."
      ],
      "metadata": {
        "id": "gIrqyGOCi4Df"
      }
    },
    {
      "cell_type": "code",
      "source": [
        "import pandas as pd\n",
        "from sklearn.impute import SimpleImputer\n",
        "from sklearn.model_selection import train_test_split\n",
        "from sklearn.linear_model import LinearRegression\n",
        "from sklearn.metrics import mean_squared_error\n",
        "\n",
        "# Load data\n",
        "combined_df = pd.concat([pd.read_csv(file) for file in file_paths], ignore_index=True)\n",
        "\n",
        "# Preprocessing\n",
        "combined_df['Date'] = pd.to_datetime(combined_df['Date'])\n",
        "combined_df[['Open', 'High', 'Low', 'Close', 'Adj Close', 'Volume']] = \\\n",
        "    combined_df[['Open', 'High', 'Low', 'Close', 'Adj Close', 'Volume']].apply(pd.to_numeric, errors='coerce')\n",
        "\n",
        "# Identify non-numeric values\n",
        "non_numeric_cols = combined_df.select_dtypes(exclude=['number']).columns\n",
        "\n",
        "# Handle non-numeric values\n",
        "if non_numeric_cols.any():\n",
        "    combined_df.drop(non_numeric_cols, axis=1, inplace=True)  # Drop non-numeric columns\n",
        "\n",
        "# Impute missing values\n",
        "imputer = SimpleImputer(strategy='median')\n",
        "X_imputed = imputer.fit_transform(combined_df)\n",
        "\n",
        "# Define target variable (y)\n",
        "y = combined_df['Close']\n",
        "\n",
        "# Handle missing values in the target variable\n",
        "y_imputer = SimpleImputer(strategy='median')\n",
        "y = y_imputer.fit_transform(y.values.reshape(-1, 1)).flatten()\n",
        "\n",
        "# Train the model\n",
        "X_train, X_test, y_train, y_test = train_test_split(X_imputed, y, test_size=0.2, random_state=42)\n",
        "model = LinearRegression()\n",
        "model.fit(X_train, y_train)\n",
        "\n",
        "# Evaluate the model\n",
        "y_pred = model.predict(X_test)\n",
        "mse = mean_squared_error(y_test, y_pred)\n",
        "print(\"Mean Squared Error:\", mse)\n",
        "\n",
        "\n",
        "\n"
      ],
      "metadata": {
        "colab": {
          "base_uri": "https://localhost:8080/"
        },
        "id": "oJGprerUd_eA",
        "outputId": "be8592b0-1227-44dd-a2b9-847a33cdeb1b"
      },
      "execution_count": null,
      "outputs": [
        {
          "output_type": "stream",
          "name": "stdout",
          "text": [
            "Mean Squared Error: 1.3502963833331903e-20\n"
          ]
        }
      ]
    },
    {
      "cell_type": "markdown",
      "source": [
        " Evaluation for predicting stock prices using a Linear Regression model\n",
        "\n",
        " The code loads data from CSV files into a DataFrame `combined_df`, converting the 'Date' column to datetime and numeric columns to numeric data types.\n",
        "Non-numeric columns are identified and dropped, and missing values are imputed using the median strategy.\n",
        "The target variable 'Close' is defined, and missing values in it are handled using a separate imputer.\n",
        "The data is split into training and testing sets, a Linear Regression model is trained on the training data, and its performance is evaluated using Mean Squared Error.\n",
        "The code achieves data preprocessing, model training, and evaluation for predicting stock prices using a Linear Regression model."
      ],
      "metadata": {
        "id": "RpUMsN0nj5Rl"
      }
    },
    {
      "cell_type": "code",
      "source": [
        "# Train the model\n",
        "model = LinearRegression()\n",
        "model.fit(X_train, y_train)\n"
      ],
      "metadata": {
        "colab": {
          "base_uri": "https://localhost:8080/",
          "height": 74
        },
        "id": "x0aZnUtdhTUL",
        "outputId": "fa53d75c-cdde-4eb6-ba2b-5576307d7411"
      },
      "execution_count": null,
      "outputs": [
        {
          "output_type": "execute_result",
          "data": {
            "text/plain": [
              "LinearRegression()"
            ],
            "text/html": [
              "<style>#sk-container-id-1 {color: black;background-color: white;}#sk-container-id-1 pre{padding: 0;}#sk-container-id-1 div.sk-toggleable {background-color: white;}#sk-container-id-1 label.sk-toggleable__label {cursor: pointer;display: block;width: 100%;margin-bottom: 0;padding: 0.3em;box-sizing: border-box;text-align: center;}#sk-container-id-1 label.sk-toggleable__label-arrow:before {content: \"▸\";float: left;margin-right: 0.25em;color: #696969;}#sk-container-id-1 label.sk-toggleable__label-arrow:hover:before {color: black;}#sk-container-id-1 div.sk-estimator:hover label.sk-toggleable__label-arrow:before {color: black;}#sk-container-id-1 div.sk-toggleable__content {max-height: 0;max-width: 0;overflow: hidden;text-align: left;background-color: #f0f8ff;}#sk-container-id-1 div.sk-toggleable__content pre {margin: 0.2em;color: black;border-radius: 0.25em;background-color: #f0f8ff;}#sk-container-id-1 input.sk-toggleable__control:checked~div.sk-toggleable__content {max-height: 200px;max-width: 100%;overflow: auto;}#sk-container-id-1 input.sk-toggleable__control:checked~label.sk-toggleable__label-arrow:before {content: \"▾\";}#sk-container-id-1 div.sk-estimator input.sk-toggleable__control:checked~label.sk-toggleable__label {background-color: #d4ebff;}#sk-container-id-1 div.sk-label input.sk-toggleable__control:checked~label.sk-toggleable__label {background-color: #d4ebff;}#sk-container-id-1 input.sk-hidden--visually {border: 0;clip: rect(1px 1px 1px 1px);clip: rect(1px, 1px, 1px, 1px);height: 1px;margin: -1px;overflow: hidden;padding: 0;position: absolute;width: 1px;}#sk-container-id-1 div.sk-estimator {font-family: monospace;background-color: #f0f8ff;border: 1px dotted black;border-radius: 0.25em;box-sizing: border-box;margin-bottom: 0.5em;}#sk-container-id-1 div.sk-estimator:hover {background-color: #d4ebff;}#sk-container-id-1 div.sk-parallel-item::after {content: \"\";width: 100%;border-bottom: 1px solid gray;flex-grow: 1;}#sk-container-id-1 div.sk-label:hover label.sk-toggleable__label {background-color: #d4ebff;}#sk-container-id-1 div.sk-serial::before {content: \"\";position: absolute;border-left: 1px solid gray;box-sizing: border-box;top: 0;bottom: 0;left: 50%;z-index: 0;}#sk-container-id-1 div.sk-serial {display: flex;flex-direction: column;align-items: center;background-color: white;padding-right: 0.2em;padding-left: 0.2em;position: relative;}#sk-container-id-1 div.sk-item {position: relative;z-index: 1;}#sk-container-id-1 div.sk-parallel {display: flex;align-items: stretch;justify-content: center;background-color: white;position: relative;}#sk-container-id-1 div.sk-item::before, #sk-container-id-1 div.sk-parallel-item::before {content: \"\";position: absolute;border-left: 1px solid gray;box-sizing: border-box;top: 0;bottom: 0;left: 50%;z-index: -1;}#sk-container-id-1 div.sk-parallel-item {display: flex;flex-direction: column;z-index: 1;position: relative;background-color: white;}#sk-container-id-1 div.sk-parallel-item:first-child::after {align-self: flex-end;width: 50%;}#sk-container-id-1 div.sk-parallel-item:last-child::after {align-self: flex-start;width: 50%;}#sk-container-id-1 div.sk-parallel-item:only-child::after {width: 0;}#sk-container-id-1 div.sk-dashed-wrapped {border: 1px dashed gray;margin: 0 0.4em 0.5em 0.4em;box-sizing: border-box;padding-bottom: 0.4em;background-color: white;}#sk-container-id-1 div.sk-label label {font-family: monospace;font-weight: bold;display: inline-block;line-height: 1.2em;}#sk-container-id-1 div.sk-label-container {text-align: center;}#sk-container-id-1 div.sk-container {/* jupyter's `normalize.less` sets `[hidden] { display: none; }` but bootstrap.min.css set `[hidden] { display: none !important; }` so we also need the `!important` here to be able to override the default hidden behavior on the sphinx rendered scikit-learn.org. See: https://github.com/scikit-learn/scikit-learn/issues/21755 */display: inline-block !important;position: relative;}#sk-container-id-1 div.sk-text-repr-fallback {display: none;}</style><div id=\"sk-container-id-1\" class=\"sk-top-container\"><div class=\"sk-text-repr-fallback\"><pre>LinearRegression()</pre><b>In a Jupyter environment, please rerun this cell to show the HTML representation or trust the notebook. <br />On GitHub, the HTML representation is unable to render, please try loading this page with nbviewer.org.</b></div><div class=\"sk-container\" hidden><div class=\"sk-item\"><div class=\"sk-estimator sk-toggleable\"><input class=\"sk-toggleable__control sk-hidden--visually\" id=\"sk-estimator-id-1\" type=\"checkbox\" checked><label for=\"sk-estimator-id-1\" class=\"sk-toggleable__label sk-toggleable__label-arrow\">LinearRegression</label><div class=\"sk-toggleable__content\"><pre>LinearRegression()</pre></div></div></div></div></div>"
            ]
          },
          "metadata": {},
          "execution_count": 15
        }
      ]
    },
    {
      "cell_type": "markdown",
      "source": [
        "The code initializes a Linear Regression model and trains it using the training data (`X_train` and `y_train`) using the `fit` method.\n",
        "The trained model `model` is now ready to make predictions on new data."
      ],
      "metadata": {
        "id": "zo-DIdvYkhcj"
      }
    },
    {
      "cell_type": "code",
      "source": [
        "from sklearn.metrics import mean_squared_error\n",
        "y_pred = model.predict(X_test)\n",
        "mse = mean_squared_error(y_test, y_pred)\n",
        "print(\"Mean Squared Error:\", mse)"
      ],
      "metadata": {
        "colab": {
          "base_uri": "https://localhost:8080/"
        },
        "id": "olH9949shk0e",
        "outputId": "75c81ac4-eacb-4553-e0ee-48744829c30d"
      },
      "execution_count": null,
      "outputs": [
        {
          "output_type": "stream",
          "name": "stdout",
          "text": [
            "Mean Squared Error: 1.3502963833331903e-20\n"
          ]
        }
      ]
    },
    {
      "cell_type": "markdown",
      "source": [
        "Accuracy\n",
        "\n",
        "The code calculates the Mean Squared Error (MSE) between the predicted target values (`y_pred`) and the actual target values (`y_test`).\n",
        "It imports the `mean_squared_error` function from scikit-learn to compute the MSE.\n",
        "The `mean_squared_error` function takes two arguments: the actual target values (`y_test`) and the predicted target values (`y_pred`).\n",
        "It then prints the computed MSE, providing a measure of how well the model's predictions align with the actual target values.\n",
        "A lower MSE indicates better agreement between predictions and actual values, while a higher MSE suggests greater discrepancies."
      ],
      "metadata": {
        "id": "qlIb3gUQl7An"
      }
    },
    {
      "cell_type": "code",
      "source": [
        "import yfinance as yf\n",
        "\n",
        "# Define the ticker symbol for the financial instrument (e.g., 'AAPL' for Apple Inc.)\n",
        "ticker_symbol = 'AAPL'\n",
        "\n",
        "# Define the start and end dates for the historical data\n",
        "start_date = '2023-01-01'\n",
        "end_date = '2023-12-31'\n",
        "\n",
        "# Retrieve historical data for the specified ticker symbol and date range\n",
        "financial_data = yf.download(ticker_symbol, start=start_date, end=end_date)\n",
        "\n",
        "# Extract the latest values for the financial metrics\n",
        "latest_open_value = financial_data['Open'].iloc[-1]\n",
        "latest_high_value = financial_data['High'].iloc[-1]\n",
        "latest_low_value = financial_data['Low'].iloc[-1]\n",
        "latest_close_value = financial_data['Close'].iloc[-1]\n",
        "latest_adj_close_value = financial_data['Adj Close'].iloc[-1]\n",
        "latest_volume_value = financial_data['Volume'].iloc[-1]\n",
        "\n",
        "# Use these latest values in your code for prediction or analysis\n"
      ],
      "metadata": {
        "colab": {
          "base_uri": "https://localhost:8080/"
        },
        "id": "8HE52R2lraTo",
        "outputId": "9d8d7656-1714-4153-8a7a-3e542a86420a"
      },
      "execution_count": null,
      "outputs": [
        {
          "output_type": "stream",
          "name": "stderr",
          "text": [
            "/usr/local/lib/python3.10/dist-packages/yfinance/base.py:48: FutureWarning: The default dtype for empty Series will be 'object' instead of 'float64' in a future version. Specify a dtype explicitly to silence this warning.\n",
            "  _empty_series = pd.Series()\n",
            "[*********************100%%**********************]  1 of 1 completed\n"
          ]
        }
      ]
    },
    {
      "cell_type": "code",
      "source": [
        "import pandas as pd\n",
        "\n",
        "# Create a sample DataFrame with sample data\n",
        "data = {\n",
        "    'Date': ['2023-01-01', '2023-01-02', '2023-01-03', '2023-01-04'],\n",
        "    'Open': [100.0, 102.0, 105.0, 103.0],\n",
        "    'High': [105.0, 103.5, 108.0, 104.5],\n",
        "    'Low': [98.0, 100.5, 103.0, 99.0],\n",
        "    'Close': [102.5, 100.8, 106.0, 102.2],\n",
        "    'Adj Close': [101.0, 102.0, 104.5, 103.0],\n",
        "    'Volume': [1000000, 1200000, 900000, 1100000]\n",
        "}\n",
        "\n",
        "# Create a DataFrame from the sample data\n",
        "sample_df = pd.DataFrame(data)\n",
        "\n",
        "# Display the sample DataFrame\n",
        "print(sample_df)\n"
      ],
      "metadata": {
        "colab": {
          "base_uri": "https://localhost:8080/"
        },
        "id": "LAhyDVhcs-TK",
        "outputId": "e1c65bd9-74ce-4b3d-bba5-e50fd4ebd006"
      },
      "execution_count": null,
      "outputs": [
        {
          "output_type": "stream",
          "name": "stdout",
          "text": [
            "         Date   Open   High    Low  Close  Adj Close   Volume\n",
            "0  2023-01-01  100.0  105.0   98.0  102.5      101.0  1000000\n",
            "1  2023-01-02  102.0  103.5  100.5  100.8      102.0  1200000\n",
            "2  2023-01-03  105.0  108.0  103.0  106.0      104.5   900000\n",
            "3  2023-01-04  103.0  104.5   99.0  102.2      103.0  1100000\n"
          ]
        }
      ]
    },
    {
      "cell_type": "code",
      "source": [
        "import pandas as pd\n",
        "from sklearn.impute import SimpleImputer\n",
        "from sklearn.linear_model import LinearRegression\n",
        "\n",
        "# Assuming you have already trained your model and saved it as 'model'\n",
        "\n",
        "# Latest values for open, high, low, close, adj close, and volume\n",
        "latest_open_value = 100.0\n",
        "latest_high_value = 110.0\n",
        "latest_low_value = 95.0\n",
        "latest_close_value = 105.0\n",
        "latest_adj_close_value = 104.5\n",
        "latest_volume_value = 1000000\n",
        "\n",
        "# Prepare the data for prediction\n",
        "latest_data = {\n",
        "    'Open': [latest_open_value],\n",
        "    'High': [latest_high_value],\n",
        "    'Low': [latest_low_value],\n",
        "    'Close': [latest_close_value],\n",
        "    'Adj Close': [latest_adj_close_value],\n",
        "    'Volume': [latest_volume_value]\n",
        "}\n",
        "\n",
        "latest_df = pd.DataFrame(latest_data)\n",
        "\n",
        "# Preprocess the data\n",
        "latest_df[['Open', 'High', 'Low', 'Close', 'Adj Close', 'Volume']] = \\\n",
        "    latest_df[['Open', 'High', 'Low', 'Close', 'Adj Close', 'Volume']].apply(pd.to_numeric, errors='coerce')\n",
        "\n",
        "imputer = SimpleImputer(strategy='median')\n",
        "latest_imputed = imputer.fit_transform(latest_df)\n",
        "\n",
        "# Make predictions\n",
        "predicted_trend = model.predict(latest_imputed)\n",
        "\n",
        "# Interpret the predictions\n",
        "if predicted_trend > latest_close_value:\n",
        "    print(\"The predicted trend is upward.\")\n",
        "elif predicted_trend < latest_close_value:\n",
        "    print(\"The predicted trend is downward.\")\n",
        "else:\n",
        "    print(\"The predicted trend is neutral or unchanged.\")\n"
      ],
      "metadata": {
        "colab": {
          "base_uri": "https://localhost:8080/"
        },
        "id": "NmSI18PUimIt",
        "outputId": "16a3098c-ed2c-4929-ab42-c806b3a1e392"
      },
      "execution_count": null,
      "outputs": [
        {
          "output_type": "stream",
          "name": "stdout",
          "text": [
            "The predicted trend is downward.\n"
          ]
        }
      ]
    },
    {
      "cell_type": "code",
      "source": [
        "import pandas as pd\n",
        "from sklearn.impute import SimpleImputer\n",
        "from sklearn.linear_model import LinearRegression\n",
        "\n",
        "# Assuming you have already trained your model and saved it as 'model'\n",
        "\n",
        "# Latest values for open, high, low, close, adj close, and volume\n",
        "latest_open_value = 100.0\n",
        "latest_high_value = 110.0\n",
        "latest_low_value = 95.0\n",
        "latest_close_value = 105.0\n",
        "latest_adj_close_value = 104.5\n",
        "latest_volume_value = 1000000\n",
        "\n",
        "# Prepare the data for prediction\n",
        "latest_data = {\n",
        "    'Open': [latest_open_value],\n",
        "    'High': [latest_high_value],\n",
        "    'Low': [latest_low_value],\n",
        "    'Close': [latest_close_value],\n",
        "    'Adj Close': [latest_adj_close_value],\n",
        "    'Volume': [latest_volume_value]\n",
        "}\n",
        "\n",
        "latest_df = pd.DataFrame(latest_data)\n",
        "\n",
        "# Preprocess the data\n",
        "latest_df[['Open', 'High', 'Low', 'Close', 'Adj Close', 'Volume']] = \\\n",
        "    latest_df[['Open', 'High', 'Low', 'Close', 'Adj Close', 'Volume']].apply(pd.to_numeric, errors='coerce')\n",
        "\n",
        "imputer = SimpleImputer(strategy='median')\n",
        "latest_imputed = imputer.fit_transform(latest_df)\n",
        "\n",
        "# Make predictions\n",
        "predicted_trend = model.predict(latest_imputed)\n",
        "\n",
        "# Interpret the predictions\n",
        "if predicted_trend > latest_close_value:\n",
        "    print(\"The predicted trend is upward.\")\n",
        "elif predicted_trend < latest_close_value:\n",
        "    print(\"The predicted trend is downward.\")\n",
        "else:\n",
        "    print(\"The predicted trend is neutral or unchanged.\")\n",
        "\n"
      ],
      "metadata": {
        "colab": {
          "base_uri": "https://localhost:8080/"
        },
        "id": "wz1L5eiatkQG",
        "outputId": "230a2347-00d9-47ca-fc4f-9aaa99677cbd"
      },
      "execution_count": null,
      "outputs": [
        {
          "output_type": "stream",
          "name": "stdout",
          "text": [
            "The predicted trend is downward.\n"
          ]
        }
      ]
    },
    {
      "cell_type": "code",
      "source": [
        "import pandas as pd\n",
        "from sklearn.impute import SimpleImputer\n",
        "from sklearn.linear_model import LinearRegression\n",
        "\n",
        "# Assuming you have already trained your model and saved it as 'model'\n",
        "\n",
        "# Given values for open, high, low, close, adj close, and volume\n",
        "given_open_value = 100.0\n",
        "given_high_value = 110.0\n",
        "given_low_value = 95.0\n",
        "given_close_value = 105.0\n",
        "given_adj_close_value = 104.5\n",
        "given_volume_value = 1000000\n",
        "\n",
        "# Prepare the data for prediction\n",
        "given_data = {\n",
        "    'Open': [given_open_value],\n",
        "    'High': [given_high_value],\n",
        "    'Low': [given_low_value],\n",
        "    'Close': [given_close_value],\n",
        "    'Adj Close': [given_adj_close_value],\n",
        "    'Volume': [given_volume_value]\n",
        "}\n",
        "\n",
        "given_df = pd.DataFrame(given_data)\n",
        "\n",
        "# Preprocess the data\n",
        "given_df[['Open', 'High', 'Low', 'Close', 'Adj Close', 'Volume']] = \\\n",
        "    given_df[['Open', 'High', 'Low', 'Close', 'Adj Close', 'Volume']].apply(pd.to_numeric, errors='coerce')\n",
        "\n",
        "imputer = SimpleImputer(strategy='median')\n",
        "given_imputed = imputer.fit_transform(given_df)\n",
        "\n",
        "# Make predictions\n",
        "predicted_trend = model.predict(given_imputed)\n",
        "\n",
        "# Interpret the predictions\n",
        "if predicted_trend > given_close_value:\n",
        "    print(\"The predicted trend is upward.\")\n",
        "elif predicted_trend < given_close_value:\n",
        "    print(\"The predicted trend is downward.\")\n",
        "else:\n",
        "    print(\"The predicted trend is neutral or unchanged.\")\n"
      ],
      "metadata": {
        "colab": {
          "base_uri": "https://localhost:8080/"
        },
        "id": "Eu8ecv9du-qu",
        "outputId": "986220dd-3632-4fa4-97fa-03666765843f"
      },
      "execution_count": null,
      "outputs": [
        {
          "output_type": "stream",
          "name": "stdout",
          "text": [
            "The predicted trend is downward.\n"
          ]
        }
      ]
    },
    {
      "cell_type": "code",
      "source": [
        "import pandas as pd\n",
        "from sklearn.impute import SimpleImputer\n",
        "\n",
        "# Assuming you have already trained your model and saved it as 'model'\n",
        "\n",
        "# Given data\n",
        "given_data = {\n",
        "    'Date': ['2023-01-01', '2023-01-02', '2023-01-03', '2023-01-04'],\n",
        "    'Open': [100.0, 102.0, 105.0, 103.0],\n",
        "    'High': [105.0, 103.5, 108.0, 104.5],\n",
        "    'Low': [98.0, 100.5, 103.0, 99.0],\n",
        "    'Close': [102.5, 100.8, 106.0, 102.2],\n",
        "    'Adj Close': [101.0, 102.0, 104.5, 103.0],\n",
        "    'Volume': [1000000, 1200000, 900000, 1100000]\n",
        "}\n",
        "\n",
        "given_df = pd.DataFrame(given_data)\n",
        "\n",
        "# Preprocess the data\n",
        "given_df['Date'] = pd.to_datetime(given_df['Date'])\n",
        "given_df[['Open', 'High', 'Low', 'Close', 'Adj Close', 'Volume']] = \\\n",
        "    given_df[['Open', 'High', 'Low', 'Close', 'Adj Close', 'Volume']].apply(pd.to_numeric, errors='coerce')\n",
        "\n",
        "# Assuming you have defined and trained your model and imputer\n",
        "# Assuming you have already defined 'model' and 'imputer'\n",
        "\n",
        "# Preprocess the data for prediction\n",
        "given_imputed = imputer.transform(given_df.drop(columns=['Date']))\n",
        "\n",
        "# Make predictions\n",
        "predicted_trend = model.predict(given_imputed)\n",
        "\n",
        "# Interpret the predictions\n",
        "latest_close_value = given_df['Close'].iloc[-1]\n",
        "if predicted_trend[0] > latest_close_value:\n",
        "    print(\"The predicted trend is upward.\")\n",
        "elif predicted_trend[0] < latest_close_value:\n",
        "    print(\"The predicted trend is downward.\")\n",
        "else:\n",
        "    print(\"The predicted trend is neutral or unchanged.\")\n"
      ],
      "metadata": {
        "colab": {
          "base_uri": "https://localhost:8080/"
        },
        "id": "L_a2mZuXvO91",
        "outputId": "b1999ed5-d1a2-4ee8-cdf5-476883c51a68"
      },
      "execution_count": null,
      "outputs": [
        {
          "output_type": "stream",
          "name": "stdout",
          "text": [
            "The predicted trend is downward.\n"
          ]
        }
      ]
    },
    {
      "cell_type": "code",
      "source": [
        "import pandas as pd\n",
        "from sklearn.impute import SimpleImputer\n",
        "from sklearn.linear_model import LinearRegression\n",
        "\n",
        "# Assuming you have already trained your model and saved it as 'model'\n",
        "\n",
        "# Latest values for open, high, low, close, adj close, and volume\n",
        "latest_open_value = 120.0\n",
        "latest_high_value = 100.0\n",
        "latest_low_value = 95.0\n",
        "latest_close_value = 85.0\n",
        "latest_adj_close_value = 90.5\n",
        "latest_volume_value = 1000000\n",
        "\n",
        "# Prepare the data for prediction\n",
        "latest_data = {\n",
        "    'Open': [latest_open_value],\n",
        "    'High': [latest_high_value],\n",
        "    'Low': [latest_low_value],\n",
        "    'Close': [latest_close_value],\n",
        "    'Adj Close': [latest_adj_close_value],\n",
        "    'Volume': [latest_volume_value]\n",
        "}\n",
        "\n",
        "latest_df = pd.DataFrame(latest_data)\n",
        "\n",
        "# Preprocess the data\n",
        "latest_df[['Open', 'High', 'Low', 'Close', 'Adj Close', 'Volume']] = \\\n",
        "    latest_df[['Open', 'High', 'Low', 'Close', 'Adj Close', 'Volume']].apply(pd.to_numeric, errors='coerce')\n",
        "\n",
        "imputer = SimpleImputer(strategy='median')\n",
        "latest_imputed = imputer.fit_transform(latest_df)\n",
        "\n",
        "# Make predictions\n",
        "predicted_trend = model.predict(latest_imputed)\n",
        "\n",
        "# Interpret the predictions\n",
        "if predicted_trend > latest_close_value:\n",
        "    print(\"The predicted trend is upward.\")\n",
        "elif predicted_trend < latest_close_value:\n",
        "    print(\"The predicted trend is downward.\")\n",
        "else:\n",
        "    print(\"The predicted trend is neutral or unchanged.\")\n"
      ],
      "metadata": {
        "colab": {
          "base_uri": "https://localhost:8080/"
        },
        "id": "uWmfHx1NplVK",
        "outputId": "06d2f31e-5c82-41d0-f780-0342af81dd44"
      },
      "execution_count": null,
      "outputs": [
        {
          "output_type": "stream",
          "name": "stdout",
          "text": [
            "The predicted trend is upward.\n"
          ]
        }
      ]
    },
    {
      "cell_type": "code",
      "source": [
        "import pandas as pd\n",
        "from sklearn.impute import SimpleImputer\n",
        "\n",
        "# Assuming you have already trained your model and saved it as 'model'\n",
        "\n",
        "# Latest values for open, high, low, close, adj close, and volume\n",
        "latest_open_value = 120.0\n",
        "latest_high_value = 100.0\n",
        "latest_low_value = 95.0\n",
        "latest_close_value = 85.0\n",
        "latest_adj_close_value = 90.5\n",
        "latest_volume_value = 1000000\n",
        "\n",
        "# Prepare the data for prediction\n",
        "latest_data = {\n",
        "    'Open': [latest_open_value],\n",
        "    'High': [latest_high_value],\n",
        "    'Low': [latest_low_value],\n",
        "    'Close': [latest_close_value],\n",
        "    'Adj Close': [latest_adj_close_value],\n",
        "    'Volume': [latest_volume_value]\n",
        "}\n",
        "\n",
        "latest_df = pd.DataFrame(latest_data)\n",
        "\n",
        "# Preprocess the data\n",
        "latest_df[['Open', 'High', 'Low', 'Close', 'Adj Close', 'Volume']] = \\\n",
        "    latest_df[['Open', 'High', 'Low', 'Close', 'Adj Close', 'Volume']].apply(pd.to_numeric, errors='coerce')\n",
        "\n",
        "imputer = SimpleImputer(strategy='median')\n",
        "latest_imputed = imputer.fit_transform(latest_df)\n",
        "\n",
        "# Make predictions for the next 5 days\n",
        "for i in range(5):\n",
        "    predicted_trend = model.predict(latest_imputed)\n",
        "\n",
        "    # Interpret the predictions\n",
        "    if predicted_trend > latest_close_value:\n",
        "        print(f\"Day {i+1}: The predicted trend is upward.\")\n",
        "    elif predicted_trend < latest_close_value:\n",
        "        print(f\"Day {i+1}: The predicted trend is downward.\")\n",
        "    else:\n",
        "        print(f\"Day {i+1}: The predicted trend is neutral or unchanged.\")\n"
      ],
      "metadata": {
        "colab": {
          "base_uri": "https://localhost:8080/"
        },
        "id": "yO0efiPWrC0E",
        "outputId": "7092509d-83e7-4af6-b185-06382e6b8631"
      },
      "execution_count": null,
      "outputs": [
        {
          "output_type": "stream",
          "name": "stdout",
          "text": [
            "Day 1: The predicted trend is upward.\n",
            "Day 2: The predicted trend is upward.\n",
            "Day 3: The predicted trend is upward.\n",
            "Day 4: The predicted trend is upward.\n",
            "Day 5: The predicted trend is upward.\n"
          ]
        }
      ]
    },
    {
      "cell_type": "code",
      "source": [
        "import pandas as pd\n",
        "from sklearn.impute import SimpleImputer\n",
        "\n",
        "# Sample latest values for open, high, low, close, adj close, and volume\n",
        "latest_open_value = 115.0\n",
        "latest_high_value = 105.0\n",
        "latest_low_value = 100.0\n",
        "latest_close_value = 95.0\n",
        "latest_adj_close_value = 100.5\n",
        "latest_volume_value = 950000\n",
        "\n",
        "# Prepare the data for prediction\n",
        "latest_data = {\n",
        "    'Open': [latest_open_value],\n",
        "    'High': [latest_high_value],\n",
        "    'Low': [latest_low_value],\n",
        "    'Close': [latest_close_value],\n",
        "    'Adj Close': [latest_adj_close_value],\n",
        "    'Volume': [latest_volume_value]\n",
        "}\n",
        "\n",
        "latest_df = pd.DataFrame(latest_data)\n",
        "\n",
        "# Preprocess the data\n",
        "latest_df[['Open', 'High', 'Low', 'Close', 'Adj Close', 'Volume']] = \\\n",
        "    latest_df[['Open', 'High', 'Low', 'Close', 'Adj Close', 'Volume']].apply(pd.to_numeric, errors='coerce')\n",
        "\n",
        "imputer = SimpleImputer(strategy='median')\n",
        "latest_imputed = imputer.fit_transform(latest_df)\n",
        "\n",
        "# Make predictions for the next 5 days\n",
        "for i in range(5):\n",
        "    predicted_trend = model.predict(latest_imputed)\n",
        "\n",
        "    # Interpret the predictions\n",
        "    if predicted_trend > latest_close_value:\n",
        "        print(f\"Day {i+1}: The predicted trend is upward.\")\n",
        "    elif predicted_trend < latest_close_value:\n",
        "        print(f\"Day {i+1}: The predicted trend is downward.\")\n",
        "    else:\n",
        "        print(f\"Day {i+1}: The predicted trend is neutral or unchanged.\")\n"
      ],
      "metadata": {
        "colab": {
          "base_uri": "https://localhost:8080/"
        },
        "id": "AkU-2kOa3RLx",
        "outputId": "339c990d-5ce6-4a7f-c788-26993bc16c97"
      },
      "execution_count": null,
      "outputs": [
        {
          "output_type": "stream",
          "name": "stdout",
          "text": [
            "Day 1: The predicted trend is upward.\n",
            "Day 2: The predicted trend is upward.\n",
            "Day 3: The predicted trend is upward.\n",
            "Day 4: The predicted trend is upward.\n",
            "Day 5: The predicted trend is upward.\n"
          ]
        }
      ]
    },
    {
      "cell_type": "code",
      "source": [
        "import pandas as pd\n",
        "from sklearn.impute import SimpleImputer\n",
        "from sklearn.linear_model import LinearRegression\n",
        "\n",
        "# Sample latest values for open, high, low, close, adj close, and volume\n",
        "latest_open_value = 115.0\n",
        "latest_high_value = 105.0\n",
        "latest_low_value = 100.0\n",
        "latest_close_value = 95.0\n",
        "latest_adj_close_value = 100.5\n",
        "latest_volume_value = 950000\n",
        "\n",
        "# Prepare the data for prediction\n",
        "latest_data = {\n",
        "    'Open': [latest_open_value],\n",
        "    'High': [latest_high_value],\n",
        "    'Low': [latest_low_value],\n",
        "    'Close': [latest_close_value],\n",
        "    'Adj Close': [latest_adj_close_value],\n",
        "    'Volume': [latest_volume_value]\n",
        "}\n",
        "\n",
        "latest_df = pd.DataFrame(latest_data)\n",
        "\n",
        "# Preprocess the data consistently with training data\n",
        "latest_df[['Open', 'High', 'Low', 'Close', 'Adj Close', 'Volume']] = \\\n",
        "    latest_df[['Open', 'High', 'Low', 'Close', 'Adj Close', 'Volume']].apply(pd.to_numeric, errors='coerce')\n",
        "\n",
        "imputer = SimpleImputer(strategy='median')\n",
        "latest_imputed = imputer.fit_transform(latest_df)\n",
        "\n",
        "# Assuming 'model' is your trained Linear Regression model\n",
        "predicted_trend = model.predict(latest_imputed)\n",
        "\n",
        "# Interpret the predictions\n",
        "if predicted_trend > latest_close_value:\n",
        "    print(\"The predicted trend is upward.\")\n",
        "elif predicted_trend < latest_close_value:\n",
        "    print(\"The predicted trend is downward.\")\n",
        "else:\n",
        "    print(\"The predicted trend is neutral or unchanged.\")\n",
        "\n"
      ],
      "metadata": {
        "colab": {
          "base_uri": "https://localhost:8080/"
        },
        "id": "TRObMe5G-NQl",
        "outputId": "9daadb80-f4e0-49f4-bf3b-011d00152f7c"
      },
      "execution_count": null,
      "outputs": [
        {
          "output_type": "stream",
          "name": "stdout",
          "text": [
            "The predicted trend is upward.\n"
          ]
        }
      ]
    }
  ]
}